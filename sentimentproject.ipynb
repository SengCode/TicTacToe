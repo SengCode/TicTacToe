{
  "nbformat": 4,
  "nbformat_minor": 0,
  "metadata": {
    "kernelspec": {
      "display_name": "Python 3",
      "language": "python",
      "name": "python3"
    },
    "language_info": {
      "codemirror_mode": {
        "name": "ipython",
        "version": 3
      },
      "file_extension": ".py",
      "mimetype": "text/x-python",
      "name": "python",
      "nbconvert_exporter": "python",
      "pygments_lexer": "ipython3",
      "version": "3.7.3"
    },
    "colab": {
      "name": "sentimentproject.ipynb",
      "provenance": [],
      "collapsed_sections": [],
      "toc_visible": true,
      "include_colab_link": true
    }
  },
  "cells": [
    {
      "cell_type": "markdown",
      "metadata": {
        "id": "view-in-github",
        "colab_type": "text"
      },
      "source": [
        "<a href=\"https://colab.research.google.com/github/SengCode/TicTacToe/blob/master/sentimentproject.ipynb\" target=\"_parent\"><img src=\"https://colab.research.google.com/assets/colab-badge.svg\" alt=\"Open In Colab\"/></a>"
      ]
    },
    {
      "cell_type": "code",
      "metadata": {
        "id": "Zil95rYJhiYf",
        "colab": {
          "base_uri": "https://localhost:8080/"
        },
        "outputId": "e7c04cf2-618f-475f-d713-ff6ed6d80221"
      },
      "source": [
        "#Derreck S. was here\n",
        "from google.colab import drive\n",
        "drive.mount('/content/drive')"
      ],
      "execution_count": null,
      "outputs": [
        {
          "output_type": "stream",
          "text": [
            "Mounted at /content/drive\n"
          ],
          "name": "stdout"
        }
      ]
    },
    {
      "cell_type": "markdown",
      "metadata": {
        "id": "x16lKZvEqViD"
      },
      "source": [
        "https://www.youtube.com/watch?v=M9Itm95JzL0  DON'T FORGET"
      ]
    },
    {
      "cell_type": "code",
      "metadata": {
        "id": "HL9aB2d7dvdM"
      },
      "source": [
        "import numpy as np\n",
        "import random\n",
        "from sklearn.model_selection import train_test_split\n",
        "from sklearn.feature_extraction.text import CountVectorizer, TfidfVectorizer\n",
        "from sklearn.metrics import f1_score\n",
        "import json"
      ],
      "execution_count": null,
      "outputs": []
    },
    {
      "cell_type": "markdown",
      "metadata": {
        "id": "tey1GDUzdvdQ"
      },
      "source": [
        "### Load In Data"
      ]
    },
    {
      "cell_type": "markdown",
      "metadata": {
        "id": "uf34rEnJdvdQ"
      },
      "source": [
        "#### Data Class"
      ]
    },
    {
      "cell_type": "code",
      "metadata": {
        "id": "zaWj5Uy0dvdQ"
      },
      "source": [
        "class Category:\n",
        "    ELECTRONICS = \"ELECTRONICS\"\n",
        "    BOOKS = \"BOOKS\"\n",
        "    CLOTHING = \"CLOTHING\"\n",
        "    GROCERY = \"GROCERY\"\n",
        "    PATIO = \"PATIO\"\n",
        "    \n",
        "class Sentiment:\n",
        "    POSITIVE = \"POSITIVE\"\n",
        "    NEGATIVE = \"NEGATIVE\"\n",
        "    NEUTRAL = \"NEUTRAL\"\n",
        "\n",
        "class Review:\n",
        "    def __init__(self, category, text, score):\n",
        "        self.category = category\n",
        "        self.text = text\n",
        "        self.score = score\n",
        "        self.sentiment = self.get_sentiment()\n",
        "        \n",
        "    def get_sentiment(self):\n",
        "        if self.score <= 2:\n",
        "            return Sentiment.NEGATIVE\n",
        "        elif self.score == 3:\n",
        "            return Sentiment.NEUTRAL\n",
        "        else: # Amazon review is a 4 or 5\n",
        "            return Sentiment.POSITIVE\n",
        "        \n",
        "class ReviewContainer:\n",
        "    def __init__(self, reviews):\n",
        "        self.reviews = reviews\n",
        "    \n",
        "    def get_text(self):\n",
        "        return [x.text for x in self.reviews]\n",
        "    \n",
        "    def get_x(self, vectorizer):\n",
        "        return vectorizer.transform(self.get_text())\n",
        "    \n",
        "    def get_y(self):\n",
        "        return [x.sentiment for x in self.reviews]\n",
        "    \n",
        "    def get_category(self):\n",
        "        return [x.category for x in self.reviews]\n",
        "    \n",
        "    def evenly_distribute(self):\n",
        "        negative = list(filter(lambda x: x.sentiment == Sentiment.NEGATIVE, self.reviews))\n",
        "        positive = list(filter(lambda x: x.sentiment == Sentiment.POSITIVE, self.reviews))\n",
        "        positive_shrunk = positive[:len(negative)]\n",
        "        print(len(positive_shrunk))\n",
        "        self.reviews = negative + positive_shrunk\n",
        "        random.shuffle(self.reviews)\n",
        "        print(self.reviews[0])"
      ],
      "execution_count": null,
      "outputs": []
    },
    {
      "cell_type": "markdown",
      "metadata": {
        "id": "BdjHmVCRdvdT"
      },
      "source": [
        "#### Load in Data"
      ]
    },
    {
      "cell_type": "code",
      "metadata": {
        "id": "AtTnQjXndvdT",
        "colab": {
          "base_uri": "https://localhost:8080/",
          "height": 244
        },
        "outputId": "80829404-8ee1-4a52-8810-9f90a00bc219"
      },
      "source": [
        "file_names = ['drive/MyDrive/AI/AI Project/Electronics_small.json', 'drive/MyDrive/AI/AI Project/Books_small.json', 'drive/MyDrive/AI/AI Project/Clothing_small.json', 'drive/MyDrive/AI/AI Project/Grocery_small.json', 'drive/MyDrive/AI/AI Project/Patio_small.json']\n",
        "file_categories = [Category.ELECTRONICS, Category.BOOKS, Category.CLOTHING, Category.GROCERY, Category.PATIO]\n",
        "\n",
        "reviews = []\n",
        "for i in range(len(file_names)):\n",
        "    file_name = file_names[i]\n",
        "    category = file_categories[i]\n",
        "    with open(file_name) as f:\n",
        "        for line in f:\n",
        "            review_json = json.loads(line)\n",
        "            review = Review(category, review_json['reviewText'], review_json['overall'])\n",
        "            reviews.append(review)"
      ],
      "execution_count": null,
      "outputs": [
        {
          "output_type": "error",
          "ename": "FileNotFoundError",
          "evalue": "ignored",
          "traceback": [
            "\u001b[0;31m---------------------------------------------------------------------------\u001b[0m",
            "\u001b[0;31mFileNotFoundError\u001b[0m                         Traceback (most recent call last)",
            "\u001b[0;32m<ipython-input-4-84220704ff52>\u001b[0m in \u001b[0;36m<module>\u001b[0;34m()\u001b[0m\n\u001b[1;32m      6\u001b[0m     \u001b[0mfile_name\u001b[0m \u001b[0;34m=\u001b[0m \u001b[0mfile_names\u001b[0m\u001b[0;34m[\u001b[0m\u001b[0mi\u001b[0m\u001b[0;34m]\u001b[0m\u001b[0;34m\u001b[0m\u001b[0;34m\u001b[0m\u001b[0m\n\u001b[1;32m      7\u001b[0m     \u001b[0mcategory\u001b[0m \u001b[0;34m=\u001b[0m \u001b[0mfile_categories\u001b[0m\u001b[0;34m[\u001b[0m\u001b[0mi\u001b[0m\u001b[0;34m]\u001b[0m\u001b[0;34m\u001b[0m\u001b[0;34m\u001b[0m\u001b[0m\n\u001b[0;32m----> 8\u001b[0;31m     \u001b[0;32mwith\u001b[0m \u001b[0mopen\u001b[0m\u001b[0;34m(\u001b[0m\u001b[0mfile_name\u001b[0m\u001b[0;34m)\u001b[0m \u001b[0;32mas\u001b[0m \u001b[0mf\u001b[0m\u001b[0;34m:\u001b[0m\u001b[0;34m\u001b[0m\u001b[0;34m\u001b[0m\u001b[0m\n\u001b[0m\u001b[1;32m      9\u001b[0m         \u001b[0;32mfor\u001b[0m \u001b[0mline\u001b[0m \u001b[0;32min\u001b[0m \u001b[0mf\u001b[0m\u001b[0;34m:\u001b[0m\u001b[0;34m\u001b[0m\u001b[0;34m\u001b[0m\u001b[0m\n\u001b[1;32m     10\u001b[0m             \u001b[0mreview_json\u001b[0m \u001b[0;34m=\u001b[0m \u001b[0mjson\u001b[0m\u001b[0;34m.\u001b[0m\u001b[0mloads\u001b[0m\u001b[0;34m(\u001b[0m\u001b[0mline\u001b[0m\u001b[0;34m)\u001b[0m\u001b[0;34m\u001b[0m\u001b[0;34m\u001b[0m\u001b[0m\n",
            "\u001b[0;31mFileNotFoundError\u001b[0m: [Errno 2] No such file or directory: 'drive/MyDrive/AI/AI Project/Electronics_small.json'"
          ]
        }
      ]
    },
    {
      "cell_type": "code",
      "metadata": {
        "id": "2vrc_r3BdLkW"
      },
      "source": [
        "from google.colab import drive\n",
        "drive.mount('/content/drive')"
      ],
      "execution_count": null,
      "outputs": []
    },
    {
      "cell_type": "markdown",
      "metadata": {
        "id": "jchesWtGdvdX"
      },
      "source": [
        "### Data Prep"
      ]
    },
    {
      "cell_type": "code",
      "metadata": {
        "id": "lrUCjAMQdvdX"
      },
      "source": [
        "train, test = train_test_split(reviews, test_size = 0.33, random_state=42)\n",
        "\n",
        "train_container = ReviewContainer(train)\n",
        "#train_container.evenly_distribute()\n",
        "test_container = ReviewContainer(test)\n",
        "#test_container.evenly_distribute()\n",
        "\n",
        "corpus = train_container.get_text()\n",
        "# vectorizer = CountVectorizer(binary=True)\n",
        "# vectorizer.fit(corpus)\n",
        "vectorizer = TfidfVectorizer()\n",
        "vectorizer.fit(corpus)\n",
        "\n",
        "train_x = train_container.get_x(vectorizer)\n",
        "train_y = train_container.get_category()\n",
        "\n",
        "test_x = test_container.get_x(vectorizer)\n",
        "test_y = test_container.get_category()"
      ],
      "execution_count": null,
      "outputs": []
    },
    {
      "cell_type": "markdown",
      "metadata": {
        "id": "nVKLWkcmdvda"
      },
      "source": [
        "### Classification"
      ]
    },
    {
      "cell_type": "code",
      "metadata": {
        "id": "B37Vwn51dvda"
      },
      "source": [
        "from sklearn import svm\n",
        "\n",
        "clf = svm.SVC(C=16, kernel='linear', gamma='auto')\n",
        "clf.fit(train_x, train_y)\n",
        "\n"
      ],
      "execution_count": null,
      "outputs": []
    },
    {
      "cell_type": "code",
      "metadata": {
        "id": "UutdlNj6dvde"
      },
      "source": [
        "test_set = ['great for my wedding', \"loved it in my garden\", 'good computer']\n",
        "new_test = vectorizer.transform(test_set)\n",
        "\n",
        "clf.predict(new_test)\n",
        "\n"
      ],
      "execution_count": null,
      "outputs": []
    },
    {
      "cell_type": "code",
      "metadata": {
        "id": "zWRCd1s3dvdg"
      },
      "source": [
        "from sklearn.naive_bayes import GaussianNB\n",
        "gnb = GaussianNB()\n",
        "\n",
        "# print(train_x)\n",
        "gnb.fit(train_x.todense(),train_y)\n",
        "gnb.score(test_x.todense(),test_y)"
      ],
      "execution_count": null,
      "outputs": []
    },
    {
      "cell_type": "markdown",
      "metadata": {
        "id": "Guuudpuzdvdk"
      },
      "source": [
        "#### Performance"
      ]
    },
    {
      "cell_type": "code",
      "metadata": {
        "id": "ylI7hJG6dvdk"
      },
      "source": [
        "y_pred = clf.predict(test_x)\n",
        "\n",
        "f1_score(test_y, y_pred, average=None)\n",
        "\n",
        "# for i in range(len(y_pred)):\n",
        "#     print(y_pred[i], test_y[i])\n",
        "\n",
        "\n"
      ],
      "execution_count": null,
      "outputs": []
    },
    {
      "cell_type": "code",
      "metadata": {
        "id": "PJqqwwXPdvdm"
      },
      "source": [
        "clf.score(test_x, test_y)"
      ],
      "execution_count": null,
      "outputs": []
    },
    {
      "cell_type": "markdown",
      "metadata": {
        "id": "SXkyUNMndvdo"
      },
      "source": [
        "#### Tuning (with grid search)"
      ]
    },
    {
      "cell_type": "code",
      "metadata": {
        "id": "XWFV-QMFdvdp"
      },
      "source": [
        "from sklearn.model_selection import GridSearchCV\n",
        "\n",
        "parameters = {'kernel':('linear', 'rbf'), 'C':[0.1,1,8,16,32]}\n",
        "svc = svm.SVC()\n",
        "clf = GridSearchCV(svc, parameters, cv=5)\n",
        "clf.fit(train_x, train_y)"
      ],
      "execution_count": null,
      "outputs": []
    },
    {
      "cell_type": "code",
      "metadata": {
        "id": "jMvjLJ3udvdr"
      },
      "source": [
        "clf.score(test_x, test_y)"
      ],
      "execution_count": null,
      "outputs": []
    },
    {
      "cell_type": "markdown",
      "metadata": {
        "id": "LS8fOM3cdvdt"
      },
      "source": [
        "### Pickle Model"
      ]
    },
    {
      "cell_type": "markdown",
      "metadata": {
        "id": "j0eY0q1vdvdt"
      },
      "source": [
        "#### Save classifier"
      ]
    },
    {
      "cell_type": "code",
      "metadata": {
        "id": "v__AMtAUdvdt"
      },
      "source": [
        "import pickle\n",
        "\n",
        "with open('drive/MyDrive/AI/AI Project/category_classifier.pkl', 'wb') as f:\n",
        "    pickle.dump(clf, f)\n",
        "    \n",
        "with open('drive/MyDrive/AI/AI Project/category_vectorizer.pkl', 'wb') as f:\n",
        "    pickle.dump(vectorizer, f)"
      ],
      "execution_count": null,
      "outputs": []
    },
    {
      "cell_type": "markdown",
      "metadata": {
        "id": "nIEooEFtdvdv"
      },
      "source": [
        "#### Load Classifier"
      ]
    },
    {
      "cell_type": "code",
      "metadata": {
        "id": "nF1YcoC_dvdw"
      },
      "source": [
        "import pickle \n",
        "\n",
        "with open('drive/MyDrive/AI/AI Project/category_classifier.pkl', 'rb') as f:\n",
        "    clf = pickle.load(f)\n",
        "\n",
        "with open('drive/MyDrive/AI/AI Project/category_vectorizer.pkl', 'rb') as f:\n",
        "    vectorizer = pickle.load(f)\n",
        "    "
      ],
      "execution_count": null,
      "outputs": []
    },
    {
      "cell_type": "code",
      "metadata": {
        "id": "z_jksVaZdvdy"
      },
      "source": [
        "test_set = ['very quick speeds', \"loved the necklace\", 'bad']\n",
        "new_test = vectorizer.transform(test_set)\n",
        "\n",
        "clf.predict(new_test)"
      ],
      "execution_count": null,
      "outputs": []
    },
    {
      "cell_type": "markdown",
      "metadata": {
        "id": "r07m2j-vdvd0"
      },
      "source": [
        "### Confusion Matrix"
      ]
    },
    {
      "cell_type": "code",
      "metadata": {
        "id": "7_4WBdrzdvd0"
      },
      "source": [
        "from sklearn.metrics import confusion_matrix\n",
        "import seaborn as sn\n",
        "import pandas as pd\n",
        "import matplotlib as plt\n",
        "\n",
        "y_pred = clf.predict(test_x)\n",
        "\n",
        "labels = [Category.ELECTRONICS, Category.BOOKS, Category.CLOTHING, Category.GROCERY, Category.PATIO]\n",
        "\n",
        "cm = confusion_matrix(test_y, y_pred, labels=labels)\n",
        "df_cm = pd.DataFrame(cm, index=labels, columns=labels)\n",
        "\n",
        "sn.heatmap(df_cm, annot=True, fmt='d')\n"
      ],
      "execution_count": null,
      "outputs": []
    }
  ]
}